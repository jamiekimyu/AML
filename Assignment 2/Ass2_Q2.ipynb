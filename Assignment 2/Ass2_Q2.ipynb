{
 "cells": [
  {
   "cell_type": "code",
   "execution_count": 53,
   "metadata": {
    "collapsed": true,
    "scrolled": false
   },
   "outputs": [],
   "source": [
    "import csv\n",
    "import json\n",
    "import pandas as pd\n",
    "import numpy as np\n",
    "import sys\n",
    "from sklearn.naive_bayes import GaussianNB as nb\n",
    "from sklearn.naive_bayes import BernoulliNB as nb1\n",
    "import pickle\n",
    "%matplotlib inline\n",
    "import matplotlib.pyplot as plt"
   ]
  },
  {
   "cell_type": "code",
   "execution_count": 54,
   "metadata": {
    "collapsed": false,
    "scrolled": false
   },
   "outputs": [],
   "source": [
    "#Loading data\n",
    "train = pd.read_json('train.json')\n",
    "test = pd.read_json('test.json')"
   ]
  },
  {
   "cell_type": "code",
   "execution_count": 55,
   "metadata": {
    "collapsed": false,
    "scrolled": false
   },
   "outputs": [
    {
     "data": {
      "text/html": [
       "<div>\n",
       "<table border=\"1\" class=\"dataframe\">\n",
       "  <thead>\n",
       "    <tr style=\"text-align: right;\">\n",
       "      <th></th>\n",
       "      <th>cuisine</th>\n",
       "      <th>id</th>\n",
       "      <th>ingredients</th>\n",
       "    </tr>\n",
       "  </thead>\n",
       "  <tbody>\n",
       "    <tr>\n",
       "      <th>0</th>\n",
       "      <td>greek</td>\n",
       "      <td>10259</td>\n",
       "      <td>[romaine lettuce, black olives, grape tomatoes...</td>\n",
       "    </tr>\n",
       "    <tr>\n",
       "      <th>1</th>\n",
       "      <td>southern_us</td>\n",
       "      <td>25693</td>\n",
       "      <td>[plain flour, ground pepper, salt, tomatoes, g...</td>\n",
       "    </tr>\n",
       "    <tr>\n",
       "      <th>2</th>\n",
       "      <td>filipino</td>\n",
       "      <td>20130</td>\n",
       "      <td>[eggs, pepper, salt, mayonaise, cooking oil, g...</td>\n",
       "    </tr>\n",
       "    <tr>\n",
       "      <th>3</th>\n",
       "      <td>indian</td>\n",
       "      <td>22213</td>\n",
       "      <td>[water, vegetable oil, wheat, salt]</td>\n",
       "    </tr>\n",
       "    <tr>\n",
       "      <th>4</th>\n",
       "      <td>indian</td>\n",
       "      <td>13162</td>\n",
       "      <td>[black pepper, shallots, cornflour, cayenne pe...</td>\n",
       "    </tr>\n",
       "  </tbody>\n",
       "</table>\n",
       "</div>"
      ],
      "text/plain": [
       "       cuisine     id                                        ingredients\n",
       "0        greek  10259  [romaine lettuce, black olives, grape tomatoes...\n",
       "1  southern_us  25693  [plain flour, ground pepper, salt, tomatoes, g...\n",
       "2     filipino  20130  [eggs, pepper, salt, mayonaise, cooking oil, g...\n",
       "3       indian  22213                [water, vegetable oil, wheat, salt]\n",
       "4       indian  13162  [black pepper, shallots, cornflour, cayenne pe..."
      ]
     },
     "execution_count": 55,
     "metadata": {},
     "output_type": "execute_result"
    }
   ],
   "source": [
    "train.head()"
   ]
  },
  {
   "cell_type": "code",
   "execution_count": 56,
   "metadata": {
    "collapsed": true,
    "scrolled": false
   },
   "outputs": [],
   "source": [
    "#Number of Dishes in Training Data"
   ]
  },
  {
   "cell_type": "code",
   "execution_count": 57,
   "metadata": {
    "collapsed": false,
    "scrolled": true
   },
   "outputs": [
    {
     "data": {
      "text/plain": [
       "39774"
      ]
     },
     "execution_count": 57,
     "metadata": {},
     "output_type": "execute_result"
    }
   ],
   "source": [
    "len(train['id'].value_counts())"
   ]
  },
  {
   "cell_type": "code",
   "execution_count": 58,
   "metadata": {
    "collapsed": true,
    "scrolled": true
   },
   "outputs": [],
   "source": [
    " #Number of Cuisines"
   ]
  },
  {
   "cell_type": "code",
   "execution_count": 59,
   "metadata": {
    "collapsed": false,
    "scrolled": true
   },
   "outputs": [
    {
     "data": {
      "text/plain": [
       "20"
      ]
     },
     "execution_count": 59,
     "metadata": {},
     "output_type": "execute_result"
    }
   ],
   "source": [
    "cuisine = train['cuisine'].value_counts()\n",
    "len(cuisine) "
   ]
  },
  {
   "cell_type": "code",
   "execution_count": 60,
   "metadata": {
    "collapsed": true,
    "scrolled": true
   },
   "outputs": [],
   "source": [
    "#Types of Cuisines"
   ]
  },
  {
   "cell_type": "code",
   "execution_count": 61,
   "metadata": {
    "collapsed": false,
    "scrolled": true
   },
   "outputs": [
    {
     "data": {
      "text/plain": [
       "<matplotlib.axes._subplots.AxesSubplot at 0x15bb15940>"
      ]
     },
     "execution_count": 61,
     "metadata": {},
     "output_type": "execute_result"
    },
    {
     "data": {
      "image/png": "[encoded data removed]",
      "text/plain": [
       "<matplotlib.figure.Figure at 0x156ec0400>"
      ]
     },
     "metadata": {},
     "output_type": "display_data"
    }
   ],
   "source": [
    "cuisine.plot(kind= 'bar')"
   ]
  },
  {
   "cell_type": "code",
   "execution_count": 74,
   "metadata": {
    "collapsed": true,
    "scrolled": true
   },
   "outputs": [],
   "source": [
    "ingredients = set() \n",
    "cuisines = set() \n",
    "train_id = list()  \n",
    "test_id = list()  "
   ]
  },
  {
   "cell_type": "code",
   "execution_count": 75,
   "metadata": {
    "collapsed": false,
    "scrolled": true
   },
   "outputs": [],
   "source": [
    "tfile = open('train.json')\n",
    "tdata = json.load(tfile)\n",
    "tfile.close()"
   ]
  },
  {
   "cell_type": "code",
   "execution_count": 76,
   "metadata": {
    "collapsed": false,
    "scrolled": true
   },
   "outputs": [],
   "source": [
    "test = open('test.json')\n",
    "testdata = json.load(test)\n",
    "test.close()"
   ]
  },
  {
   "cell_type": "raw",
   "metadata": {},
   "source": []
  },
  {
   "cell_type": "code",
   "execution_count": 77,
   "metadata": {
    "collapsed": false,
    "scrolled": true
   },
   "outputs": [],
   "source": [
    "#Segregating relevant data into correponding datasets.\n",
    "for recipe in tdata:\n",
    "    train_id.append(recipe['id'])\n",
    "    cuisines.add(recipe['cuisine'])\n",
    "    for elems in recipe['ingredients']:\n",
    "        ingredients.add(elems)"
   ]
  },
  {
   "cell_type": "code",
   "execution_count": 78,
   "metadata": {
    "collapsed": false,
    "scrolled": true
   },
   "outputs": [
    {
     "data": {
      "text/plain": [
       "39774"
      ]
     },
     "execution_count": 78,
     "metadata": {},
     "output_type": "execute_result"
    }
   ],
   "source": [
    "len(train_id)"
   ]
  },
  {
   "cell_type": "code",
   "execution_count": 79,
   "metadata": {
    "collapsed": false,
    "scrolled": false
   },
   "outputs": [
    {
     "data": {
      "text/plain": [
       "6714"
      ]
     },
     "execution_count": 79,
     "metadata": {},
     "output_type": "execute_result"
    }
   ],
   "source": [
    "len(ingredients) #Number of Unique Ingredients in  Training  Data"
   ]
  },
  {
   "cell_type": "code",
   "execution_count": 80,
   "metadata": {
    "collapsed": false
   },
   "outputs": [
    {
     "data": {
      "text/plain": [
       "20"
      ]
     },
     "execution_count": 80,
     "metadata": {},
     "output_type": "execute_result"
    }
   ],
   "source": [
    "len(cuisines) #Number of Cuisines in Training Data"
   ]
  },
  {
   "cell_type": "code",
   "execution_count": 81,
   "metadata": {
    "collapsed": false
   },
   "outputs": [],
   "source": [
    "#Adding unique test data elements to ingredients set.\n",
    "for recipe in testdata:\n",
    "    for elems in recipe['ingredients']:\n",
    "        ingredients.add(elems)"
   ]
  },
  {
   "cell_type": "code",
   "execution_count": null,
   "metadata": {
    "collapsed": false
   },
   "outputs": [],
   "source": []
  },
  {
   "cell_type": "code",
   "execution_count": 82,
   "metadata": {
    "collapsed": false
   },
   "outputs": [
    {
     "data": {
      "text/plain": [
       "7137"
      ]
     },
     "execution_count": 82,
     "metadata": {},
     "output_type": "execute_result"
    }
   ],
   "source": [
    "len(ingredients) #Number of Unique Ingredients in  combined Testing and Training  Data"
   ]
  },
  {
   "cell_type": "code",
   "execution_count": 83,
   "metadata": {
    "collapsed": true
   },
   "outputs": [],
   "source": [
    "#Represent Each Dish by a binary ingredient feature vector\n",
    "cuisines = list(cuisines)\n",
    "cuisines = dict([(cuisine, i) for i, cuisine in enumerate(cuisines)])\n",
    "ingredients = list(ingredients)\n",
    "ingredients = dict([(ingredient, i) for i, ingredient in enumerate(ingredients)])"
   ]
  },
  {
   "cell_type": "code",
   "execution_count": 84,
   "metadata": {
    "collapsed": true
   },
   "outputs": [],
   "source": [
    "X = []\n",
    "Y = []"
   ]
  },
  {
   "cell_type": "code",
   "execution_count": 85,
   "metadata": {
    "collapsed": true
   },
   "outputs": [],
   "source": [
    "for recipe in tdata:\n",
    "    inglist = [0 for x in range(len(ingredients))]\n",
    "    for ingredient in recipe['ingredients']:\n",
    "        pos = ingredients[ingredient]\n",
    "        inglist[pos] = 1.0\n",
    "    X.append(inglist)\n",
    "    \n",
    "    cuisinepos = cuisines[recipe['cuisine']]\n",
    "    Y.append(cuisinepos)"
   ]
  },
  {
   "cell_type": "code",
   "execution_count": 90,
   "metadata": {
    "collapsed": true
   },
   "outputs": [],
   "source": [
    "X_test = []\n",
    "for recipe in testdata:\n",
    "    inglist = [0 for x in range(len(ingredients))]\n",
    "    for ingredient in recipe['ingredients']:\n",
    "        pos = ingredients[ingredient]\n",
    "        inglist[pos] = 1.0\n",
    "    X_test.append(inglist)"
   ]
  },
  {
   "cell_type": "code",
   "execution_count": 21,
   "metadata": {
    "collapsed": false
   },
   "outputs": [
    {
     "data": {
      "text/plain": [
       "39774"
      ]
     },
     "execution_count": 21,
     "metadata": {},
     "output_type": "execute_result"
    }
   ],
   "source": [
    "#Binary Ingredient Feature Vector (n X d)\n",
    "len(X) \n"
   ]
  },
  {
   "cell_type": "code",
   "execution_count": 24,
   "metadata": {
    "collapsed": false
   },
   "outputs": [
    {
     "data": {
      "text/plain": [
       "6714"
      ]
     },
     "execution_count": 24,
     "metadata": {},
     "output_type": "execute_result"
    }
   ],
   "source": [
    "len(X[0])"
   ]
  },
  {
   "cell_type": "code",
   "execution_count": 22,
   "metadata": {
    "collapsed": false
   },
   "outputs": [
    {
     "data": {
      "text/plain": [
       "6714"
      ]
     },
     "execution_count": 22,
     "metadata": {},
     "output_type": "execute_result"
    }
   ],
   "source": [
    "len(ingredients)\n",
    "    "
   ]
  },
  {
   "cell_type": "code",
   "execution_count": 23,
   "metadata": {
    "collapsed": false
   },
   "outputs": [
    {
     "data": {
      "text/plain": [
       "39774"
      ]
     },
     "execution_count": 23,
     "metadata": {},
     "output_type": "execute_result"
    }
   ],
   "source": [
    "len(Y) # List of all recipes as per their cuisine number"
   ]
  },
  {
   "cell_type": "code",
   "execution_count": 130,
   "metadata": {
    "collapsed": false
   },
   "outputs": [
    {
     "data": {
      "text/plain": [
       "9944"
      ]
     },
     "execution_count": 130,
     "metadata": {},
     "output_type": "execute_result"
    }
   ],
   "source": [
    "len(X_test) #Binary Ingredient Feature Vector (n X d) in Testing Data"
   ]
  },
  {
   "cell_type": "code",
   "execution_count": 94,
   "metadata": {
    "collapsed": false
   },
   "outputs": [
    {
     "data": {
      "text/plain": [
       "7137"
      ]
     },
     "execution_count": 94,
     "metadata": {},
     "output_type": "execute_result"
    }
   ],
   "source": [
    "len(X_test[0]) #Number of ingredients have increased from 6714 to 7137 because Test Data has more ingredients"
   ]
  },
  {
   "cell_type": "code",
   "execution_count": 95,
   "metadata": {
    "collapsed": true
   },
   "outputs": [],
   "source": [
    "Xa = np.array(X)"
   ]
  },
  {
   "cell_type": "code",
   "execution_count": 96,
   "metadata": {
    "collapsed": true
   },
   "outputs": [],
   "source": [
    "Ya = np.array(Y)"
   ]
  },
  {
   "cell_type": "code",
   "execution_count": 97,
   "metadata": {
    "collapsed": true
   },
   "outputs": [],
   "source": [
    "Xa_test = np.array(X_test)"
   ]
  },
  {
   "cell_type": "code",
   "execution_count": 26,
   "metadata": {
    "collapsed": false
   },
   "outputs": [],
   "source": [
    "# Using Naïve Bayes Classifier to perform 3 fold cross-validation on the training set and report your average classification accuracy"
   ]
  },
  {
   "cell_type": "code",
   "execution_count": 98,
   "metadata": {
    "collapsed": false
   },
   "outputs": [
    {
     "data": {
      "text/plain": [
       "array([ 9, 17,  3, ...,  0,  2,  1])"
      ]
     },
     "execution_count": 98,
     "metadata": {},
     "output_type": "execute_result"
    }
   ],
   "source": [
    "Ya"
   ]
  },
  {
   "cell_type": "code",
   "execution_count": 28,
   "metadata": {
    "collapsed": false
   },
   "outputs": [],
   "source": []
  },
  {
   "cell_type": "code",
   "execution_count": 107,
   "metadata": {
    "collapsed": false
   },
   "outputs": [
    {
     "name": "stdout",
     "output_type": "stream",
     "text": [
      "Genrated Folds\n",
      "[13258 13259 13260 ..., 39771 39772 39773] [    0     1     2 ..., 13255 13256 13257]\n",
      "[    0     1     2 ..., 39771 39772 39773] [13258 13259 13260 ..., 26513 26514 26515]\n",
      "[    0     1     2 ..., 26513 26514 26515] [26516 26517 26518 ..., 39771 39772 39773]\n"
     ]
    }
   ],
   "source": [
    "#Setting up environment for 3-Fold Cross Validation\n",
    "from sklearn import cross_validation\n",
    "all_folds = cross_validation.KFold(len(Xa), n_folds=3)\n",
    "print(\"Genrated Folds\")\n",
    "for i in all_folds:\n",
    "    train,test=i\n",
    "    print(\"%s %s\" % (train, test))"
   ]
  },
  {
   "cell_type": "code",
   "execution_count": 100,
   "metadata": {
    "collapsed": true
   },
   "outputs": [],
   "source": [
    "#Gaussian Prior Naive Bayes\n",
    "from sklearn.naive_bayes import GaussianNB\n",
    "clf = GaussianNB()\n",
    "result = []\n",
    "for i in all_folds:\n",
    "    train,test=i\n",
    "    result.append(clf.fit(Xa[train],Ya[train]).score(Xa[test],Ya[test]))"
   ]
  },
  {
   "cell_type": "code",
   "execution_count": 101,
   "metadata": {
    "collapsed": false
   },
   "outputs": [
    {
     "name": "stdout",
     "output_type": "stream",
     "text": [
      "The accuracy of each fold is: \n",
      "[0.37901644290239855, 0.38293860310755767, 0.37758334590435966]\n",
      "The average accuracy of Gaussian Naive Bayes classifier is: \n",
      "0.379846130638\n"
     ]
    }
   ],
   "source": [
    "print(\"The accuracy of each fold is: \")\n",
    "print(result)\n",
    "print(\"The average accuracy of Gaussian Naive Bayes classifier is: \")\n",
    "print(sum(result) / float(len(result)))"
   ]
  },
  {
   "cell_type": "code",
   "execution_count": 102,
   "metadata": {
    "collapsed": false
   },
   "outputs": [],
   "source": [
    "#Bernoulli Prior Naive Bayes\n",
    "from sklearn.naive_bayes import BernoulliNB\n",
    "clf = BernoulliNB()\n",
    "result_Bernoulli = []\n",
    "for i in all_folds:\n",
    "    train,test=i\n",
    "    result_Bernoulli.append(clf.fit(Xa[train],Ya[train]).score(Xa[test],Ya[test]))"
   ]
  },
  {
   "cell_type": "code",
   "execution_count": 104,
   "metadata": {
    "collapsed": false
   },
   "outputs": [
    {
     "name": "stdout",
     "output_type": "stream",
     "text": [
      "The accuracy of each fold is: \n",
      "[0.67860914165032438, 0.67430985065620752, 0.68139990948861062]\n",
      "The average accuracy of Bernoulli Naive Bayes classifier is: \n",
      "0.678106300598\n"
     ]
    }
   ],
   "source": [
    "print(\"The accuracy of each fold is: \")\n",
    "print(result_Bernoulli)\n",
    "print(\"The average accuracy of Bernoulli Naive Bayes classifier is: \")\n",
    "print(sum(result_Bernoulli) / float(len(result_Bernoulli)))"
   ]
  },
  {
   "cell_type": "code",
   "execution_count": 105,
   "metadata": {
    "collapsed": false
   },
   "outputs": [],
   "source": [
    "#Logistic Regression using 3-Fold Cross Validation\n",
    "from sklearn import linear_model\n",
    "result_Logistic = []\n",
    "cls = linear_model.LogisticRegression()\n",
    "for i in all_folds:\n",
    "    train,test=i\n",
    "    result_Logistic.append(cls.fit(Xa[train], Ya[train]).score(Xa[test], Ya[test]))"
   ]
  },
  {
   "cell_type": "code",
   "execution_count": 106,
   "metadata": {
    "collapsed": false
   },
   "outputs": [
    {
     "name": "stdout",
     "output_type": "stream",
     "text": [
      "The accuracy of each fold is: \n",
      "[0.77583345904359635, 0.77213757731181176, 0.77869965303967414]\n",
      "The average accuracy of Logistic Regression classifier is: \n",
      "0.775556896465\n"
     ]
    }
   ],
   "source": [
    "print(\"The accuracy of each fold is: \")\n",
    "print(result_Logistic)\n",
    "print(\"The average accuracy of Logistic Regression classifier is: \")\n",
    "print(sum(result_Logistic) / float(len(result)))"
   ]
  },
  {
   "cell_type": "code",
   "execution_count": 50,
   "metadata": {
    "collapsed": false
   },
   "outputs": [],
   "source": [
    "#Since our best accuracy was obtained with Logistic Regression, we'll train all data using it."
   ]
  },
  {
   "cell_type": "code",
   "execution_count": 108,
   "metadata": {
    "collapsed": false
   },
   "outputs": [],
   "source": [
    "final_result = []\n",
    "cfr = linear_model.LogisticRegression()\n",
    "final_result = cfr.fit(Xa,Ya).score(Xa,Ya)"
   ]
  },
  {
   "cell_type": "code",
   "execution_count": 109,
   "metadata": {
    "collapsed": false
   },
   "outputs": [
    {
     "name": "stdout",
     "output_type": "stream",
     "text": [
      "The accuracy of Logistic Regression on entire training data is: \n",
      "0.868331070549\n"
     ]
    }
   ],
   "source": [
    "print(\"The accuracy of Logistic Regression on entire training data is: \")\n",
    "print(final_result)"
   ]
  },
  {
   "cell_type": "code",
   "execution_count": 110,
   "metadata": {
    "collapsed": true
   },
   "outputs": [],
   "source": [
    "#Using classifier to predict cuisines in Testing Data\n",
    "result_test = []\n",
    "result_test = cfr.predict(Xa_test)"
   ]
  },
  {
   "cell_type": "code",
   "execution_count": 124,
   "metadata": {
    "collapsed": false
   },
   "outputs": [
    {
     "data": {
      "text/plain": [
       "[u'british',\n",
       " u'southern_us',\n",
       " u'italian',\n",
       " u'cajun_creole',\n",
       " u'italian',\n",
       " u'southern_us',\n",
       " u'spanish',\n",
       " u'chinese',\n",
       " u'mexican',\n",
       " u'british',\n",
       " u'italian',\n",
       " u'greek',\n",
       " u'indian',\n",
       " u'italian',\n",
       " u'southern_us',\n",
       " u'french',\n",
       " u'mexican',\n",
       " u'southern_us',\n",
       " u'mexican',\n",
       " u'southern_us',\n",
       " u'japanese',\n",
       " u'indian',\n",
       " u'spanish',\n",
       " u'vietnamese',\n",
       " u'italian',\n",
       " u'southern_us',\n",
       " u'vietnamese',\n",
       " u'korean',\n",
       " u'italian',\n",
       " u'italian',\n",
       " u'mexican',\n",
       " u'thai',\n",
       " u'mexican',\n",
       " u'japanese',\n",
       " u'chinese',\n",
       " u'mexican',\n",
       " u'russian',\n",
       " u'indian',\n",
       " u'indian',\n",
       " u'cajun_creole',\n",
       " u'cajun_creole',\n",
       " u'chinese',\n",
       " u'french',\n",
       " u'mexican',\n",
       " u'italian',\n",
       " u'italian',\n",
       " u'spanish',\n",
       " u'russian',\n",
       " u'vietnamese',\n",
       " u'chinese',\n",
       " u'italian',\n",
       " u'thai',\n",
       " u'indian',\n",
       " u'italian',\n",
       " u'italian',\n",
       " u'chinese',\n",
       " u'italian',\n",
       " u'japanese',\n",
       " u'chinese',\n",
       " u'cajun_creole',\n",
       " u'french',\n",
       " u'mexican',\n",
       " u'filipino',\n",
       " u'korean',\n",
       " u'mexican',\n",
       " u'greek',\n",
       " u'mexican',\n",
       " u'thai',\n",
       " u'italian',\n",
       " u'italian',\n",
       " u'italian',\n",
       " u'indian',\n",
       " u'thai',\n",
       " u'brazilian',\n",
       " u'indian',\n",
       " u'japanese',\n",
       " u'indian',\n",
       " u'mexican',\n",
       " u'southern_us',\n",
       " u'greek',\n",
       " u'chinese',\n",
       " u'spanish',\n",
       " u'italian',\n",
       " u'korean',\n",
       " u'british',\n",
       " u'southern_us',\n",
       " u'greek',\n",
       " u'italian',\n",
       " u'cajun_creole',\n",
       " u'chinese',\n",
       " u'indian',\n",
       " u'italian',\n",
       " u'mexican',\n",
       " u'chinese',\n",
       " u'moroccan',\n",
       " u'southern_us',\n",
       " u'french',\n",
       " u'greek',\n",
       " u'italian',\n",
       " u'indian',\n",
       " u'southern_us',\n",
       " u'southern_us',\n",
       " u'italian',\n",
       " u'thai',\n",
       " u'korean',\n",
       " u'southern_us',\n",
       " u'italian',\n",
       " u'italian',\n",
       " u'korean',\n",
       " u'chinese',\n",
       " u'mexican',\n",
       " u'italian',\n",
       " u'mexican',\n",
       " u'southern_us',\n",
       " u'italian',\n",
       " u'mexican',\n",
       " u'japanese',\n",
       " u'filipino',\n",
       " u'indian',\n",
       " u'jamaican',\n",
       " u'korean',\n",
       " u'mexican',\n",
       " u'french',\n",
       " u'filipino',\n",
       " u'southern_us',\n",
       " u'vietnamese',\n",
       " u'italian',\n",
       " u'italian',\n",
       " u'thai',\n",
       " u'irish',\n",
       " u'japanese',\n",
       " u'mexican',\n",
       " u'italian',\n",
       " u'mexican',\n",
       " u'spanish',\n",
       " u'mexican',\n",
       " u'italian',\n",
       " u'mexican',\n",
       " u'irish',\n",
       " u'chinese',\n",
       " u'chinese',\n",
       " u'southern_us',\n",
       " u'italian',\n",
       " u'french',\n",
       " u'southern_us',\n",
       " u'mexican',\n",
       " u'cajun_creole',\n",
       " u'cajun_creole',\n",
       " u'italian',\n",
       " u'southern_us',\n",
       " u'chinese',\n",
       " u'italian',\n",
       " u'italian',\n",
       " u'japanese',\n",
       " u'mexican',\n",
       " u'french',\n",
       " u'indian',\n",
       " u'italian',\n",
       " u'mexican',\n",
       " u'southern_us',\n",
       " u'mexican',\n",
       " u'southern_us',\n",
       " u'southern_us',\n",
       " u'southern_us',\n",
       " u'french',\n",
       " u'mexican',\n",
       " u'southern_us',\n",
       " u'italian',\n",
       " u'southern_us',\n",
       " u'italian',\n",
       " u'southern_us',\n",
       " u'italian',\n",
       " u'italian',\n",
       " u'vietnamese',\n",
       " u'mexican',\n",
       " u'mexican',\n",
       " u'thai',\n",
       " u'italian',\n",
       " u'southern_us',\n",
       " u'irish',\n",
       " u'italian',\n",
       " u'italian',\n",
       " u'thai',\n",
       " u'italian',\n",
       " u'southern_us',\n",
       " u'french',\n",
       " u'chinese',\n",
       " u'indian',\n",
       " u'indian',\n",
       " u'moroccan',\n",
       " u'mexican',\n",
       " u'mexican',\n",
       " u'mexican',\n",
       " u'italian',\n",
       " u'mexican',\n",
       " u'mexican',\n",
       " u'chinese',\n",
       " u'southern_us',\n",
       " u'italian',\n",
       " u'mexican',\n",
       " u'indian',\n",
       " u'japanese',\n",
       " u'italian',\n",
       " u'italian',\n",
       " u'french',\n",
       " u'vietnamese',\n",
       " u'brazilian',\n",
       " u'mexican',\n",
       " u'french',\n",
       " u'chinese',\n",
       " u'french',\n",
       " u'french',\n",
       " u'indian',\n",
       " u'jamaican',\n",
       " u'irish',\n",
       " u'spanish',\n",
       " u'filipino',\n",
       " u'brazilian',\n",
       " u'mexican',\n",
       " u'french',\n",
       " u'italian',\n",
       " u'italian',\n",
       " u'mexican',\n",
       " u'chinese',\n",
       " u'southern_us',\n",
       " u'italian',\n",
       " u'french',\n",
       " u'italian',\n",
       " u'italian',\n",
       " u'indian',\n",
       " u'mexican',\n",
       " u'italian',\n",
       " u'italian',\n",
       " u'thai',\n",
       " u'southern_us',\n",
       " u'italian',\n",
       " u'mexican',\n",
       " u'indian',\n",
       " u'italian',\n",
       " u'italian',\n",
       " u'italian',\n",
       " u'southern_us',\n",
       " u'french',\n",
       " u'thai',\n",
       " u'southern_us',\n",
       " u'southern_us',\n",
       " u'mexican',\n",
       " u'southern_us',\n",
       " u'cajun_creole',\n",
       " u'italian',\n",
       " u'mexican',\n",
       " u'moroccan',\n",
       " u'chinese',\n",
       " u'russian',\n",
       " u'chinese',\n",
       " u'southern_us',\n",
       " u'italian',\n",
       " u'jamaican',\n",
       " u'italian',\n",
       " u'moroccan',\n",
       " u'mexican',\n",
       " u'thai',\n",
       " u'mexican',\n",
       " u'italian',\n",
       " u'italian',\n",
       " u'mexican',\n",
       " u'indian',\n",
       " u'italian',\n",
       " u'southern_us',\n",
       " u'french',\n",
       " u'indian',\n",
       " u'french',\n",
       " u'southern_us',\n",
       " u'british',\n",
       " u'southern_us',\n",
       " u'mexican',\n",
       " u'japanese',\n",
       " u'mexican',\n",
       " u'italian',\n",
       " u'thai',\n",
       " u'mexican',\n",
       " u'indian',\n",
       " u'southern_us',\n",
       " u'mexican',\n",
       " u'italian',\n",
       " u'filipino',\n",
       " u'italian',\n",
       " u'italian',\n",
       " u'southern_us',\n",
       " u'southern_us',\n",
       " u'greek',\n",
       " u'mexican',\n",
       " u'korean',\n",
       " u'french',\n",
       " u'irish',\n",
       " u'mexican',\n",
       " u'chinese',\n",
       " u'british',\n",
       " u'mexican',\n",
       " u'moroccan',\n",
       " u'mexican',\n",
       " u'mexican',\n",
       " u'indian',\n",
       " u'japanese',\n",
       " u'cajun_creole',\n",
       " u'mexican',\n",
       " u'spanish',\n",
       " u'greek',\n",
       " u'italian',\n",
       " u'chinese',\n",
       " u'chinese',\n",
       " u'spanish',\n",
       " u'italian',\n",
       " u'irish',\n",
       " u'mexican',\n",
       " u'italian',\n",
       " u'mexican',\n",
       " u'spanish',\n",
       " u'italian',\n",
       " u'indian',\n",
       " u'mexican',\n",
       " u'filipino',\n",
       " u'italian',\n",
       " u'mexican',\n",
       " u'southern_us',\n",
       " u'indian',\n",
       " u'indian',\n",
       " u'vietnamese',\n",
       " u'southern_us',\n",
       " u'indian',\n",
       " u'southern_us',\n",
       " u'moroccan',\n",
       " u'korean',\n",
       " u'greek',\n",
       " u'thai',\n",
       " u'southern_us',\n",
       " u'korean',\n",
       " u'indian',\n",
       " u'jamaican',\n",
       " u'italian',\n",
       " u'mexican',\n",
       " u'italian',\n",
       " u'japanese',\n",
       " u'indian',\n",
       " u'mexican',\n",
       " u'southern_us',\n",
       " u'indian',\n",
       " u'mexican',\n",
       " u'indian',\n",
       " u'british',\n",
       " u'irish',\n",
       " u'mexican',\n",
       " u'southern_us',\n",
       " u'korean',\n",
       " u'mexican',\n",
       " u'filipino',\n",
       " u'mexican',\n",
       " u'thai',\n",
       " u'spanish',\n",
       " u'southern_us',\n",
       " u'thai',\n",
       " u'french',\n",
       " u'mexican',\n",
       " u'vietnamese',\n",
       " u'mexican',\n",
       " u'italian',\n",
       " u'chinese',\n",
       " u'mexican',\n",
       " u'italian',\n",
       " u'british',\n",
       " u'mexican',\n",
       " u'italian',\n",
       " u'italian',\n",
       " u'italian',\n",
       " u'moroccan',\n",
       " u'mexican',\n",
       " u'italian',\n",
       " u'italian',\n",
       " u'italian',\n",
       " u'korean',\n",
       " u'thai',\n",
       " u'southern_us',\n",
       " u'cajun_creole',\n",
       " u'italian',\n",
       " u'southern_us',\n",
       " u'chinese',\n",
       " u'italian',\n",
       " u'indian',\n",
       " u'chinese',\n",
       " u'korean',\n",
       " u'mexican',\n",
       " u'italian',\n",
       " u'chinese',\n",
       " u'vietnamese',\n",
       " u'moroccan',\n",
       " u'indian',\n",
       " u'chinese',\n",
       " u'southern_us',\n",
       " u'southern_us',\n",
       " u'cajun_creole',\n",
       " u'french',\n",
       " u'indian',\n",
       " u'moroccan',\n",
       " u'italian',\n",
       " u'vietnamese',\n",
       " u'french',\n",
       " u'japanese',\n",
       " u'italian',\n",
       " u'southern_us',\n",
       " u'southern_us',\n",
       " u'british',\n",
       " u'indian',\n",
       " u'vietnamese',\n",
       " u'greek',\n",
       " u'southern_us',\n",
       " u'mexican',\n",
       " u'southern_us',\n",
       " u'indian',\n",
       " u'irish',\n",
       " u'italian',\n",
       " u'korean',\n",
       " u'chinese',\n",
       " u'italian',\n",
       " u'southern_us',\n",
       " u'italian',\n",
       " u'italian',\n",
       " u'indian',\n",
       " u'indian',\n",
       " u'mexican',\n",
       " u'southern_us',\n",
       " u'chinese',\n",
       " u'mexican',\n",
       " u'indian',\n",
       " u'italian',\n",
       " u'mexican',\n",
       " u'indian',\n",
       " u'italian',\n",
       " u'mexican',\n",
       " u'japanese',\n",
       " u'italian',\n",
       " u'indian',\n",
       " u'italian',\n",
       " u'japanese',\n",
       " u'indian',\n",
       " u'mexican',\n",
       " u'southern_us',\n",
       " u'russian',\n",
       " u'mexican',\n",
       " u'italian',\n",
       " u'filipino',\n",
       " u'japanese',\n",
       " u'thai',\n",
       " u'indian',\n",
       " u'southern_us',\n",
       " u'moroccan',\n",
       " u'vietnamese',\n",
       " u'mexican',\n",
       " u'southern_us',\n",
       " u'french',\n",
       " u'mexican',\n",
       " u'greek',\n",
       " u'southern_us',\n",
       " u'vietnamese',\n",
       " u'japanese',\n",
       " u'greek',\n",
       " u'mexican',\n",
       " u'mexican',\n",
       " u'southern_us',\n",
       " u'thai',\n",
       " u'indian',\n",
       " u'indian',\n",
       " u'french',\n",
       " u'mexican',\n",
       " u'chinese',\n",
       " u'british',\n",
       " u'italian',\n",
       " u'southern_us',\n",
       " u'mexican',\n",
       " u'italian',\n",
       " u'spanish',\n",
       " u'cajun_creole',\n",
       " u'french',\n",
       " u'chinese',\n",
       " u'chinese',\n",
       " u'vietnamese',\n",
       " u'italian',\n",
       " u'southern_us',\n",
       " u'filipino',\n",
       " u'irish',\n",
       " u'southern_us',\n",
       " u'french',\n",
       " u'mexican',\n",
       " u'chinese',\n",
       " u'thai',\n",
       " u'italian',\n",
       " u'russian',\n",
       " u'italian',\n",
       " u'italian',\n",
       " u'mexican',\n",
       " u'moroccan',\n",
       " u'french',\n",
       " u'indian',\n",
       " u'thai',\n",
       " u'southern_us',\n",
       " u'mexican',\n",
       " u'korean',\n",
       " u'italian',\n",
       " u'italian',\n",
       " u'thai',\n",
       " u'brazilian',\n",
       " u'vietnamese',\n",
       " u'italian',\n",
       " u'korean',\n",
       " u'southern_us',\n",
       " u'cajun_creole',\n",
       " u'chinese',\n",
       " u'mexican',\n",
       " u'indian',\n",
       " u'chinese',\n",
       " u'southern_us',\n",
       " u'southern_us',\n",
       " u'mexican',\n",
       " u'cajun_creole',\n",
       " u'irish',\n",
       " u'mexican',\n",
       " u'italian',\n",
       " u'british',\n",
       " u'italian',\n",
       " u'italian',\n",
       " u'french',\n",
       " u'russian',\n",
       " u'mexican',\n",
       " u'southern_us',\n",
       " u'indian',\n",
       " u'mexican',\n",
       " u'thai',\n",
       " u'indian',\n",
       " u'indian',\n",
       " u'mexican',\n",
       " u'chinese',\n",
       " u'italian',\n",
       " u'french',\n",
       " u'french',\n",
       " u'french',\n",
       " u'indian',\n",
       " u'vietnamese',\n",
       " u'french',\n",
       " u'italian',\n",
       " u'mexican',\n",
       " u'mexican',\n",
       " u'french',\n",
       " u'french',\n",
       " u'indian',\n",
       " u'indian',\n",
       " u'mexican',\n",
       " u'indian',\n",
       " u'italian',\n",
       " u'mexican',\n",
       " u'southern_us',\n",
       " u'italian',\n",
       " u'spanish',\n",
       " u'southern_us',\n",
       " u'chinese',\n",
       " u'chinese',\n",
       " u'italian',\n",
       " u'greek',\n",
       " u'italian',\n",
       " u'indian',\n",
       " u'mexican',\n",
       " u'southern_us',\n",
       " u'southern_us',\n",
       " u'vietnamese',\n",
       " u'italian',\n",
       " u'southern_us',\n",
       " u'mexican',\n",
       " u'southern_us',\n",
       " u'chinese',\n",
       " u'filipino',\n",
       " u'italian',\n",
       " u'indian',\n",
       " u'southern_us',\n",
       " u'spanish',\n",
       " u'thai',\n",
       " u'southern_us',\n",
       " u'korean',\n",
       " u'thai',\n",
       " u'indian',\n",
       " u'italian',\n",
       " u'mexican',\n",
       " u'indian',\n",
       " u'chinese',\n",
       " u'cajun_creole',\n",
       " u'italian',\n",
       " u'italian',\n",
       " u'italian',\n",
       " u'filipino',\n",
       " u'italian',\n",
       " u'jamaican',\n",
       " u'korean',\n",
       " u'southern_us',\n",
       " u'mexican',\n",
       " u'italian',\n",
       " u'indian',\n",
       " u'mexican',\n",
       " u'italian',\n",
       " u'spanish',\n",
       " u'thai',\n",
       " u'japanese',\n",
       " u'indian',\n",
       " u'mexican',\n",
       " u'italian',\n",
       " u'mexican',\n",
       " u'filipino',\n",
       " u'thai',\n",
       " u'british',\n",
       " u'cajun_creole',\n",
       " u'thai',\n",
       " u'italian',\n",
       " u'korean',\n",
       " u'mexican',\n",
       " u'brazilian',\n",
       " u'japanese',\n",
       " u'french',\n",
       " u'french',\n",
       " u'southern_us',\n",
       " u'southern_us',\n",
       " u'chinese',\n",
       " u'chinese',\n",
       " u'thai',\n",
       " u'italian',\n",
       " u'french',\n",
       " u'french',\n",
       " u'filipino',\n",
       " u'french',\n",
       " u'italian',\n",
       " u'russian',\n",
       " u'southern_us',\n",
       " u'mexican',\n",
       " u'southern_us',\n",
       " u'french',\n",
       " u'thai',\n",
       " u'southern_us',\n",
       " u'cajun_creole',\n",
       " u'greek',\n",
       " u'thai',\n",
       " u'spanish',\n",
       " u'french',\n",
       " u'southern_us',\n",
       " u'italian',\n",
       " u'indian',\n",
       " u'thai',\n",
       " u'british',\n",
       " u'mexican',\n",
       " u'greek',\n",
       " u'chinese',\n",
       " u'italian',\n",
       " u'southern_us',\n",
       " u'italian',\n",
       " u'moroccan',\n",
       " u'french',\n",
       " u'mexican',\n",
       " u'greek',\n",
       " u'italian',\n",
       " u'mexican',\n",
       " u'vietnamese',\n",
       " u'mexican',\n",
       " u'indian',\n",
       " u'mexican',\n",
       " u'italian',\n",
       " u'korean',\n",
       " u'indian',\n",
       " u'cajun_creole',\n",
       " u'mexican',\n",
       " u'chinese',\n",
       " u'italian',\n",
       " u'french',\n",
       " u'italian',\n",
       " u'mexican',\n",
       " u'chinese',\n",
       " u'indian',\n",
       " u'french',\n",
       " u'moroccan',\n",
       " u'italian',\n",
       " u'japanese',\n",
       " u'chinese',\n",
       " u'french',\n",
       " u'italian',\n",
       " u'italian',\n",
       " u'southern_us',\n",
       " u'italian',\n",
       " u'british',\n",
       " u'french',\n",
       " u'indian',\n",
       " u'indian',\n",
       " u'chinese',\n",
       " u'chinese',\n",
       " u'jamaican',\n",
       " u'filipino',\n",
       " u'chinese',\n",
       " u'irish',\n",
       " u'italian',\n",
       " u'southern_us',\n",
       " u'french',\n",
       " u'chinese',\n",
       " u'southern_us',\n",
       " u'french',\n",
       " u'cajun_creole',\n",
       " u'filipino',\n",
       " u'thai',\n",
       " u'jamaican',\n",
       " u'italian',\n",
       " u'italian',\n",
       " u'greek',\n",
       " u'greek',\n",
       " u'cajun_creole',\n",
       " u'thai',\n",
       " u'italian',\n",
       " u'mexican',\n",
       " u'chinese',\n",
       " u'mexican',\n",
       " u'mexican',\n",
       " u'mexican',\n",
       " u'italian',\n",
       " u'italian',\n",
       " u'french',\n",
       " u'chinese',\n",
       " u'thai',\n",
       " u'vietnamese',\n",
       " u'southern_us',\n",
       " u'italian',\n",
       " u'french',\n",
       " u'indian',\n",
       " u'mexican',\n",
       " u'italian',\n",
       " u'italian',\n",
       " u'southern_us',\n",
       " u'italian',\n",
       " u'mexican',\n",
       " u'indian',\n",
       " u'chinese',\n",
       " u'southern_us',\n",
       " u'mexican',\n",
       " u'chinese',\n",
       " u'southern_us',\n",
       " u'southern_us',\n",
       " u'chinese',\n",
       " u'italian',\n",
       " u'cajun_creole',\n",
       " u'chinese',\n",
       " u'mexican',\n",
       " u'korean',\n",
       " u'italian',\n",
       " u'greek',\n",
       " u'chinese',\n",
       " u'southern_us',\n",
       " u'mexican',\n",
       " u'italian',\n",
       " u'southern_us',\n",
       " u'chinese',\n",
       " u'chinese',\n",
       " u'japanese',\n",
       " u'indian',\n",
       " u'korean',\n",
       " u'italian',\n",
       " u'italian',\n",
       " u'italian',\n",
       " u'indian',\n",
       " u'italian',\n",
       " u'chinese',\n",
       " u'irish',\n",
       " u'italian',\n",
       " u'chinese',\n",
       " u'moroccan',\n",
       " u'japanese',\n",
       " u'indian',\n",
       " u'italian',\n",
       " u'french',\n",
       " u'mexican',\n",
       " u'italian',\n",
       " u'italian',\n",
       " u'mexican',\n",
       " u'mexican',\n",
       " u'mexican',\n",
       " u'southern_us',\n",
       " u'irish',\n",
       " u'indian',\n",
       " u'indian',\n",
       " u'french',\n",
       " u'italian',\n",
       " u'moroccan',\n",
       " u'mexican',\n",
       " u'chinese',\n",
       " u'thai',\n",
       " u'italian',\n",
       " u'indian',\n",
       " u'mexican',\n",
       " u'italian',\n",
       " u'mexican',\n",
       " u'mexican',\n",
       " u'italian',\n",
       " u'cajun_creole',\n",
       " u'filipino',\n",
       " u'italian',\n",
       " u'mexican',\n",
       " u'french',\n",
       " u'italian',\n",
       " u'italian',\n",
       " u'japanese',\n",
       " u'cajun_creole',\n",
       " u'japanese',\n",
       " u'mexican',\n",
       " u'mexican',\n",
       " u'italian',\n",
       " u'japanese',\n",
       " u'italian',\n",
       " u'chinese',\n",
       " u'french',\n",
       " u'chinese',\n",
       " u'italian',\n",
       " u'southern_us',\n",
       " u'italian',\n",
       " u'southern_us',\n",
       " u'spanish',\n",
       " u'french',\n",
       " u'mexican',\n",
       " u'italian',\n",
       " u'mexican',\n",
       " u'mexican',\n",
       " u'italian',\n",
       " u'irish',\n",
       " u'southern_us',\n",
       " u'italian',\n",
       " u'chinese',\n",
       " u'french',\n",
       " u'thai',\n",
       " u'italian',\n",
       " u'italian',\n",
       " u'italian',\n",
       " u'japanese',\n",
       " u'mexican',\n",
       " u'indian',\n",
       " u'jamaican',\n",
       " u'french',\n",
       " u'italian',\n",
       " u'chinese',\n",
       " u'indian',\n",
       " u'southern_us',\n",
       " u'french',\n",
       " u'mexican',\n",
       " u'mexican',\n",
       " u'italian',\n",
       " u'southern_us',\n",
       " u'mexican',\n",
       " u'chinese',\n",
       " u'greek',\n",
       " u'indian',\n",
       " u'french',\n",
       " u'indian',\n",
       " u'french',\n",
       " u'italian',\n",
       " u'mexican',\n",
       " u'italian',\n",
       " u'indian',\n",
       " u'chinese',\n",
       " u'mexican',\n",
       " u'italian',\n",
       " u'cajun_creole',\n",
       " u'southern_us',\n",
       " u'indian',\n",
       " u'mexican',\n",
       " u'italian',\n",
       " u'mexican',\n",
       " u'italian',\n",
       " u'japanese',\n",
       " u'korean',\n",
       " u'italian',\n",
       " u'mexican',\n",
       " u'mexican',\n",
       " u'chinese',\n",
       " u'italian',\n",
       " u'chinese',\n",
       " u'italian',\n",
       " u'french',\n",
       " u'mexican',\n",
       " u'greek',\n",
       " u'mexican',\n",
       " u'italian',\n",
       " u'southern_us',\n",
       " u'italian',\n",
       " u'japanese',\n",
       " u'italian',\n",
       " u'greek',\n",
       " u'mexican',\n",
       " u'british',\n",
       " u'chinese',\n",
       " u'french',\n",
       " u'italian',\n",
       " u'french',\n",
       " u'thai',\n",
       " u'greek',\n",
       " u'greek',\n",
       " u'southern_us',\n",
       " u'british',\n",
       " u'chinese',\n",
       " u'thai',\n",
       " u'italian',\n",
       " u'greek',\n",
       " u'greek',\n",
       " u'thai',\n",
       " u'chinese',\n",
       " u'chinese',\n",
       " u'italian',\n",
       " u'italian',\n",
       " u'japanese',\n",
       " u'french',\n",
       " u'french',\n",
       " u'moroccan',\n",
       " u'italian',\n",
       " u'southern_us',\n",
       " u'mexican',\n",
       " u'italian',\n",
       " u'mexican',\n",
       " u'chinese',\n",
       " u'british',\n",
       " u'greek',\n",
       " u'thai',\n",
       " u'southern_us',\n",
       " u'japanese',\n",
       " u'french',\n",
       " u'mexican',\n",
       " u'italian',\n",
       " u'southern_us',\n",
       " u'vietnamese',\n",
       " u'russian',\n",
       " u'southern_us',\n",
       " u'spanish',\n",
       " u'thai',\n",
       " u'mexican',\n",
       " u'indian',\n",
       " u'southern_us',\n",
       " u'italian',\n",
       " u'thai',\n",
       " u'mexican',\n",
       " u'japanese',\n",
       " u'italian',\n",
       " u'moroccan',\n",
       " u'moroccan',\n",
       " u'italian',\n",
       " u'mexican',\n",
       " u'japanese',\n",
       " u'indian',\n",
       " u'russian',\n",
       " u'mexican',\n",
       " u'italian',\n",
       " u'italian',\n",
       " u'mexican',\n",
       " u'southern_us',\n",
       " u'italian',\n",
       " u'italian',\n",
       " u'cajun_creole',\n",
       " u'indian',\n",
       " u'mexican',\n",
       " u'italian',\n",
       " u'mexican',\n",
       " u'italian',\n",
       " u'chinese',\n",
       " u'french',\n",
       " u'southern_us',\n",
       " u'southern_us',\n",
       " u'italian',\n",
       " u'italian',\n",
       " u'italian',\n",
       " u'southern_us',\n",
       " u'vietnamese',\n",
       " u'italian',\n",
       " u'southern_us',\n",
       " u'chinese',\n",
       " u'southern_us',\n",
       " u'mexican',\n",
       " u'mexican',\n",
       " u'indian',\n",
       " u'italian',\n",
       " u'chinese',\n",
       " u'vietnamese',\n",
       " u'mexican',\n",
       " u'cajun_creole',\n",
       " u'indian',\n",
       " u'thai',\n",
       " u'italian',\n",
       " u'korean',\n",
       " u'italian',\n",
       " u'french',\n",
       " u'japanese',\n",
       " u'spanish',\n",
       " u'chinese',\n",
       " u'italian',\n",
       " u'mexican',\n",
       " u'southern_us',\n",
       " u'chinese',\n",
       " u'italian',\n",
       " ...]"
      ]
     },
     "execution_count": 124,
     "metadata": {},
     "output_type": "execute_result"
    }
   ],
   "source": [
    "result_test"
   ]
  },
  {
   "cell_type": "code",
   "execution_count": 125,
   "metadata": {
    "collapsed": false
   },
   "outputs": [
    {
     "ename": "KeyError",
     "evalue": "u'british'",
     "output_type": "error",
     "traceback": [
      "\u001b[1;31m---------------------------------------------------------------------------\u001b[0m",
      "\u001b[1;31mKeyError\u001b[0m                                  Traceback (most recent call last)",
      "\u001b[1;32m<ipython-input-125-1273cb24dd42>\u001b[0m in \u001b[0;36m<module>\u001b[1;34m()\u001b[0m\n\u001b[0;32m      1\u001b[0m \u001b[1;31m# Generating Submission File\u001b[0m\u001b[1;33m\u001b[0m\u001b[1;33m\u001b[0m\u001b[0m\n\u001b[0;32m      2\u001b[0m \u001b[0mnum_to_cuisine\u001b[0m \u001b[1;33m=\u001b[0m \u001b[1;33m{\u001b[0m\u001b[0mval\u001b[0m\u001b[1;33m:\u001b[0m \u001b[0mkey\u001b[0m \u001b[1;32mfor\u001b[0m \u001b[0mkey\u001b[0m\u001b[1;33m,\u001b[0m \u001b[0mval\u001b[0m \u001b[1;32min\u001b[0m \u001b[0mcuisines\u001b[0m\u001b[1;33m.\u001b[0m\u001b[0mitems\u001b[0m\u001b[1;33m(\u001b[0m\u001b[1;33m)\u001b[0m\u001b[1;33m}\u001b[0m\u001b[1;33m\u001b[0m\u001b[0m\n\u001b[1;32m----> 3\u001b[1;33m \u001b[0mresult_test\u001b[0m \u001b[1;33m=\u001b[0m \u001b[1;33m[\u001b[0m\u001b[0mnum_to_cuisine\u001b[0m\u001b[1;33m[\u001b[0m\u001b[0mx\u001b[0m\u001b[1;33m]\u001b[0m \u001b[1;32mfor\u001b[0m \u001b[0mx\u001b[0m \u001b[1;32min\u001b[0m \u001b[0mresult_test\u001b[0m\u001b[1;33m]\u001b[0m\u001b[1;33m\u001b[0m\u001b[0m\n\u001b[0m\u001b[0;32m      4\u001b[0m \u001b[1;33m\u001b[0m\u001b[0m\n",
      "\u001b[1;31mKeyError\u001b[0m: u'british'"
     ]
    }
   ],
   "source": [
    "# Generating Submission File\n",
    "num_to_cuisine = {val: key for key, val in cuisines.items()}\n",
    "result_test = [num_to_cuisine[x] for x in result_test]\n",
    "\n"
   ]
  },
  {
   "cell_type": "code",
   "execution_count": 133,
   "metadata": {
    "collapsed": false
   },
   "outputs": [],
   "source": [
    "# write results to file\n",
    "out_nb = open('test.csv','w')\n",
    "out_nb.write('id,cuisine\\n')\n",
    "\n",
    "for x in range(len(testdata)):\n",
    "    out_nb.write(str(testdata[x]['id']) + ',' + result_test[x] + '\\n')\n",
    "out_nb.close()"
   ]
  },
  {
   "cell_type": "code",
   "execution_count": 29,
   "metadata": {
    "collapsed": false
   },
   "outputs": [],
   "source": []
  },
  {
   "cell_type": "code",
   "execution_count": null,
   "metadata": {
    "collapsed": false
   },
   "outputs": [],
   "source": []
  },
  {
   "cell_type": "code",
   "execution_count": null,
   "metadata": {
    "collapsed": false
   },
   "outputs": [],
   "source": []
  },
  {
   "cell_type": "code",
   "execution_count": null,
   "metadata": {
    "collapsed": false
   },
   "outputs": [],
   "source": []
  },
  {
   "cell_type": "code",
   "execution_count": null,
   "metadata": {
    "collapsed": true
   },
   "outputs": [],
   "source": []
  },
  {
   "cell_type": "code",
   "execution_count": null,
   "metadata": {
    "collapsed": false
   },
   "outputs": [],
   "source": []
  },
  {
   "cell_type": "markdown",
   "metadata": {},
   "source": []
  },
  {
   "cell_type": "code",
   "execution_count": null,
   "metadata": {
    "collapsed": false
   },
   "outputs": [],
   "source": []
  },
  {
   "cell_type": "code",
   "execution_count": null,
   "metadata": {
    "collapsed": true
   },
   "outputs": [],
   "source": []
  },
  {
   "cell_type": "code",
   "execution_count": null,
   "metadata": {
    "collapsed": false
   },
   "outputs": [],
   "source": []
  },
  {
   "cell_type": "code",
   "execution_count": null,
   "metadata": {
    "collapsed": false
   },
   "outputs": [],
   "source": []
  },
  {
   "cell_type": "code",
   "execution_count": null,
   "metadata": {
    "collapsed": false
   },
   "outputs": [],
   "source": []
  },
  {
   "cell_type": "code",
   "execution_count": null,
   "metadata": {
    "collapsed": false
   },
   "outputs": [],
   "source": []
  },
  {
   "cell_type": "code",
   "execution_count": null,
   "metadata": {
    "collapsed": false
   },
   "outputs": [],
   "source": []
  },
  {
   "cell_type": "code",
   "execution_count": null,
   "metadata": {
    "collapsed": false
   },
   "outputs": [],
   "source": []
  },
  {
   "cell_type": "code",
   "execution_count": null,
   "metadata": {
    "collapsed": false
   },
   "outputs": [],
   "source": []
  },
  {
   "cell_type": "code",
   "execution_count": null,
   "metadata": {
    "collapsed": false
   },
   "outputs": [],
   "source": []
  }
 ],
 "metadata": {
  "anaconda-cloud": {},
  "kernelspec": {
   "display_name": "Python [Root]",
   "language": "python",
   "name": "Python [Root]"
  },
  "language_info": {
   "codemirror_mode": {
    "name": "ipython",
    "version": 2
   },
   "file_extension": ".py",
   "mimetype": "text/x-python",
   "name": "python",
   "nbconvert_exporter": "python",
   "pygments_lexer": "ipython2",
   "version": "2.7.12"
  }
 },
 "nbformat": 4,
 "nbformat_minor": 0
}
