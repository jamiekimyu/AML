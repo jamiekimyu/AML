{
 "cells": [
  {
   "cell_type": "markdown",
   "metadata": {},
   "source": [
    "(2) Clustering for Text Analysis\n",
    "\n",
    "a) Analyzing science2k-doc-word.npy - given documents, lists features/terms"
   ]
  },
  {
   "cell_type": "code",
   "execution_count": 1,
   "metadata": {
    "collapsed": true
   },
   "outputs": [],
   "source": [
    "import numpy as np\n",
    "\n",
    "#load numpy array as data\n",
    "#1373×5476 matrix, where each row is an article described by 5476 word features\n",
    "data = np.load(\"science2k-doc-word.npy\")"
   ]
  },
  {
   "cell_type": "code",
   "execution_count": 2,
   "metadata": {},
   "outputs": [
    {
     "name": "stdout",
     "output_type": "stream",
     "text": [
      "labels [3 3 3 ..., 2 5 5]\n"
     ]
    }
   ],
   "source": [
    "from sklearn.cluster import KMeans\n",
    "\n",
    "#initialize KMeans model\n",
    "def initKMeans(k):\n",
    "    model = KMeans(n_clusters=k, init='k-means++', random_state=3)\n",
    "    model.fit(data)\n",
    "\n",
    "    labels = model.labels_ #array specifying the label of the owning cluster for each article in data; 1373 articles so len of 1373\n",
    "    centroids = model.cluster_centers_ #coordinates of the centroid(cluster center)\n",
    "    return model, labels, centroids\n",
    "\n",
    "kForDocuments = 8\n",
    "model, labelsDoc, centroidsDoc = initKMeans(kForDocuments)\n",
    "print('labels', labelsDoc)"
   ]
  },
  {
   "cell_type": "code",
   "execution_count": 3,
   "metadata": {},
   "outputs": [
    {
     "data": {
      "image/png": "[encoded data removed]",
      "text/plain": [
       "<matplotlib.figure.Figure at 0x10e122e48>"
      ]
     },
     "metadata": {},
     "output_type": "display_data"
    }
   ],
   "source": [
    "#Source: http://fromdatawithlove.thegovans.us/2013/05/clustering-using-scikit-learn.html\n",
    "#plot the data\n",
    "from matplotlib import pyplot\n",
    "\n",
    "def plotData(k, labels, centroids, data):\n",
    "    for i in range(k):\n",
    "        # select only data observations with cluster label == i\n",
    "        ds = data[np.where(labels==i)]\n",
    "        # plot the data observations\n",
    "        pyplot.plot(ds[:,0],ds[:,1],'o')\n",
    "        # plot the centroids\n",
    "        lines = pyplot.plot(centroids[i,0],centroids[i,1],'kx')\n",
    "        # make the centroid x's bigger\n",
    "        pyplot.setp(lines,ms=15.0)\n",
    "        pyplot.setp(lines,mew=2.0)\n",
    "    pyplot.show()\n",
    "\n",
    "plotData(kForDocuments, labelsDoc, centroidsDoc, data)"
   ]
  },
  {
   "cell_type": "code",
   "execution_count": 4,
   "metadata": {
    "collapsed": true
   },
   "outputs": [],
   "source": [
    "# Source: https://stackoverflow.com/questions/26795535/output-50-samples-closest-to-each-cluster-center-using-scikit-learn-k-means-libr\n",
    "\n",
    "def findClosestPointsToCentroid(k, model):\n",
    "    indices = []\n",
    "    for idx in range(k):\n",
    "        #the distance to the idx'th centroid for each point in an array data is:\n",
    "        distances = model.transform(data)[:,idx] #This gives an array of len(X) distances\n",
    "        #The indices of the 10 closest to centroid idx are\n",
    "        ind = np.argsort(distances)[::][:10]\n",
    "        indices.append(ind)\n",
    "    return indices\n",
    "\n",
    "indicesDoc = findClosestPointsToCentroid(kForDocuments, model)"
   ]
  },
  {
   "cell_type": "code",
   "execution_count": 5,
   "metadata": {},
   "outputs": [
    {
     "name": "stdout",
     "output_type": "stream",
     "text": [
      "Closest 10 documents to Centroid # 1 are:\n",
      "[[ '\"Earliest Pleistocene Hominid Cranial Remains from Dmanisi, Republic of Georgia: Taxonomy, Geological Setting, and Age\"']\n",
      " [ '\"Age of Neoproterozoic Bilatarian Body and Trace Fossils, White Sea, Russia: Implications for Metazoan Evolution\"']\n",
      " [ '\"Tectonic Implications of U-Pb Zircon Ages of the Himalayan Orogenic Belt in Nepal\"']\n",
      " ['\"A Fossil Snake with Limbs\"']\n",
      " ['\"Taxonomy of the Dmanisi Crania\"']\n",
      " ['\"Glomalean Fungi from the Ordovician\"']\n",
      " ['\"Terrestrial Life: Fungal from the Start?\"']\n",
      " ['\"Into the Forbidden Zone\"']\n",
      " ['\"Oxygen Isotopes and Emerald Trade Routes since Antiquity\"']\n",
      " [ '\"Evidence for Ecological Causation of Sexual Dimorphism in a Hummingbird\"']]\n",
      "Closest 10 documents to Centroid # 2 are:\n",
      "[[ '\"Population Dynamical Consequences of Climate Change for a Small Temperate Songbird\"']\n",
      " ['\"The Formation of Chondrules at High Gas Pressures in the Solar Nebula\"']\n",
      " ['\"Reopening the Darkest Chapter in German Science\"']\n",
      " ['\"Algorithmic Gladiators Vie for Digital Glory\"']\n",
      " [ '\"Subducted Seamount Imaged in the Rupture Zone of the 1946 Nankaido Earthquake\"']\n",
      " [ '\"Reconstruction of the Amazon Basin Effective Moisture Availability over the past 14,000 Years\"']\n",
      " ['\"Homogenization of Fish Faunas across the United States\"']\n",
      " [ '\"Tectonic Implications of U-Pb Zircon Ages of the Himalayan Orogenic Belt in Nepal\"']\n",
      " ['\"Greenland Ice Sheet: High-Elevation Balance and Peripheral Thinning\"']\n",
      " ['\"Nitric Acid Trihydrate (NAT) in Polar Stratospheric Clouds\"']]\n",
      "Closest 10 documents to Centroid # 3 are:\n",
      "[[ '\"Requirement of NAD and SIR2 for Life-Span Extension by Calorie Restriction in Saccharomyces Cerevisiae\"']\n",
      " ['\"Algorithmic Gladiators Vie for Digital Glory\"']\n",
      " ['\"Reopening the Darkest Chapter in German Science\"']\n",
      " ['\"Thermal, Catalytic, Regiospecific Functionalization of Alkanes\"']\n",
      " [ '\"Suppression of Mutations in Mitochondrial DNA by tRNAs Imported from the Cytoplasm\"']\n",
      " ['\"Movement Patterns in Spoken Language\"']\n",
      " ['\"Turning up the Heat on Histoplasma capsulatum\"']\n",
      " ['\"Mothers Setting Boundaries\"']\n",
      " [ '\"Similar Requirements of a Plant Symbiont and a Mammalian Pathogen for Prolonged Intracellular Survival\"']\n",
      " ['\"Divining Diet and Disease from DNA\"']]\n",
      "Closest 10 documents to Centroid # 4 are:\n",
      "[['\"Algorithmic Gladiators Vie for Digital Glory\"']\n",
      " ['\"Reopening the Darkest Chapter in German Science\"']\n",
      " ['\"National Academy of Sciences Elects New Members\"']\n",
      " [ '\"Corrections and Clarifications: Charon\\'s First Detailed Spectra Hold Many Surprises\"']\n",
      " [ '\"Corrections and Clarifications: A Short Fe-Fe Distance in Peroxodiferric Ferritin: Control of Fe Substrate versus Cofactor Decay?\"']\n",
      " ['\"Corrections and Clarifications: Unearthing Monuments of the Yarmukians\"']\n",
      " ['\"Heretical Idea Faces Its Sternest Test\"']\n",
      " ['\"Archaeology in the Holy Land\"']\n",
      " ['\"Information Technology Takes a Different Tack\"']\n",
      " [ '\"Corrections and Clarifications: Biotech Research Proves a Draw in Canada\"']]\n",
      "Closest 10 documents to Centroid # 5 are:\n",
      "[['\"Information Technology Takes a Different Tack\"']\n",
      " ['\"Algorithmic Gladiators Vie for Digital Glory\"']\n",
      " ['\"Reopening the Darkest Chapter in German Science\"']\n",
      " ['\"Archaeology in the Holy Land\"']\n",
      " ['\"Science Survives in Breakthrough States\"']\n",
      " ['\"Baedeker\\'s Guide, or Just Plain \\'Trouble\\'?\"']\n",
      " ['\"Heretical Idea Faces Its Sternest Test\"']\n",
      " ['\"National Academy of Sciences Elects New Members\"']\n",
      " ['\"Vaccine Studies Stymied by Shortage of Animals\"']\n",
      " ['\"Divining Diet and Disease from DNA\"']]\n",
      "Closest 10 documents to Centroid # 6 are:\n",
      "[['\"The Formation of Chondrules at High Gas Pressures in the Solar Nebula\"']\n",
      " ['\"Algorithmic Gladiators Vie for Digital Glory\"']\n",
      " ['\"Heretical Idea Faces Its Sternest Test\"']\n",
      " ['\"Reopening the Darkest Chapter in German Science\"']\n",
      " ['\"Thermal, Catalytic, Regiospecific Functionalization of Alkanes\"']\n",
      " ['\"Information Storage and Retrieval through Quantum Phase\"']\n",
      " ['\"Synthesis and Characterization of Helical Multi-Shell Gold Nanowires\"']\n",
      " [ '\"A Monoclinic Post-Stishovite Polymorph of Silica in the Shergotty Meteorite\"']\n",
      " ['\"Quantum Dots as Tunable Kondo Impurities\"']\n",
      " [ '\"Corrections and Clarifications: Charon\\'s First Detailed Spectra Hold Many Surprises\"']]\n",
      "Closest 10 documents to Centroid # 7 are:\n",
      "[[ '\"Suppression of Mutations in Mitochondrial DNA by tRNAs Imported from the Cytoplasm\"']\n",
      " [ '\"Requirement of NAD and SIR2 for Life-Span Extension by Calorie Restriction in Saccharomyces Cerevisiae\"']\n",
      " [ '\"Distinct Classes of Yeast Promoters Revealed by Differential TAF Recruitment\"']\n",
      " [ '\"Coupling of Stress in the ER to Activation of JNK Protein Kinases by Transmembrane Protein Kinase IRE1\"']\n",
      " ['\"Efficient Initiation of HCV RNA Replication in Cell Culture\"']\n",
      " ['\"An Arresting Start for MAPK\"']\n",
      " ['\"How to Get along: Friendly Microbes in a Hostile World\"']\n",
      " [ '\"T Cell-Independent Rescue of B Lymphocytes from Peripheral Immune Tolerance\"']\n",
      " ['\"Thermal, Catalytic, Regiospecific Functionalization of Alkanes\"']\n",
      " [ '\"Similar Requirements of a Plant Symbiont and a Mammalian Pathogen for Prolonged Intracellular Survival\"']]\n",
      "Closest 10 documents to Centroid # 8 are:\n",
      "[[ '\"A Structural Framework for Deciphering the Link between <latex>$I-A^{g7}$</latex> and Autoimmune Diabetes\"']\n",
      " [ '\"Crystal Structure of gd T Cell Receptor Ligand T22: A Truncated MHC-like Fold\"']\n",
      " ['\"Convergent Solutions to Binding at a Protein-Protein Interface\"']\n",
      " [ '\"Structure of Murine CTLA-4 and Its Role in Modulating T Cell Responsiveness\"']\n",
      " ['\"Ubiquitination: More Than Two to Tango\"']\n",
      " ['\"A Stable Bicyclic Compound with Two Si=Si Double Bonds\"']\n",
      " ['\"Thermal, Catalytic, Regiospecific Functionalization of Alkanes\"']\n",
      " [ '\"Evidence for Ecological Causation of Sexual Dimorphism in a Hummingbird\"']\n",
      " [ '\"Structure of Yeast Poly(A) Polymerase Alone and in Complex with 3\\'-dATP\"']\n",
      " ['\"On the Ancestry of Barrels\"']]\n"
     ]
    }
   ],
   "source": [
    "def find10Closest(openFile, indices, variable):\n",
    "    #load titles file and find titles that are closest to the centroid\n",
    "    titles = open(openFile, \"r\")\n",
    "\n",
    "    titlesArray = []\n",
    "    #remove '\\n' symbol and split by tab to obtain each title in its own index\n",
    "    for line in titles:\n",
    "        arr = line.strip('\\n').split('\\t')  \n",
    "        titlesArray.append(arr)\n",
    "\n",
    "    #transform titlesArray to numpy array\n",
    "    titles_data = np.asarray(titlesArray, dtype=object, order=None)\n",
    "\n",
    "    #print titles of closest 10 documents to a centroid\n",
    "    for counter, index in enumerate(indices):\n",
    "        adjustedCounter = counter + 1\n",
    "        print('Closest 10', variable, 'to Centroid #', adjustedCounter, 'are:')\n",
    "        print(titles_data[index])\n",
    "\n",
    "find10Closest(\"science2k-titles.txt\", indicesDoc, 'documents')"
   ]
  },
  {
   "cell_type": "markdown",
   "metadata": {},
   "source": [
    "b) Analyzing  science2k-word-doc.npy  - given terms, lists documents"
   ]
  },
  {
   "cell_type": "code",
   "execution_count": 14,
   "metadata": {},
   "outputs": [
    {
     "name": "stdout",
     "output_type": "stream",
     "text": [
      "[[-6.755691   -6.755691   -6.755691   ...,  4.064107    5.093713    3.707441  ]\n",
      " [-4.028205   -4.028205   -4.028205   ..., -4.028205   -4.028205   -4.028205  ]\n",
      " [-0.03370464 -1.132184   -0.03370464 ...,  0.2539608   1.57568     0.6594092 ]\n",
      " ..., \n",
      " [-0.1301101  -0.1301101  -0.1301101  ..., -0.1301101  -0.1301101\n",
      "  -0.1301101 ]\n",
      " [-0.05128021 -0.05128021 -0.05128021 ..., -0.05128021 -0.05128021\n",
      "  -0.05128021]\n",
      " [-0.06441435 -0.06441435 -0.06441435 ..., -0.06441435 -0.06441435\n",
      "  -0.06441435]]\n"
     ]
    },
    {
     "data": {
      "image/png": "[encoded data removed]",
      "text/plain": [
       "<matplotlib.figure.Figure at 0x1252b9080>"
      ]
     },
     "metadata": {},
     "output_type": "display_data"
    }
   ],
   "source": [
    "#load numpy array as data\n",
    "#5476×1373 matrix, where each row is a term described by described by 1373 “document” features/transformed document frequencies\n",
    "\n",
    "dataTwo = np.load(\"science2k-word-doc.npy\")\n",
    "print(dataTwo)\n",
    "kForTerms = 4\n",
    "modelTwo, labelsTerm, centroidsTerm = initKMeans(kForTerms)\n",
    "plotData(kForTerms, labelsTerm, centroidsTerm, dataTwo)"
   ]
  },
  {
   "cell_type": "code",
   "execution_count": 13,
   "metadata": {},
   "outputs": [
    {
     "name": "stdout",
     "output_type": "stream",
     "text": [
      "Closest 10 terms to Centroid # 1 are:\n",
      "[['hand']\n",
      " ['exhibit']\n",
      " ['cross']\n",
      " ['expressing']\n",
      " ['class']\n",
      " ['volume']\n",
      " ['able']\n",
      " ['transgenic']\n",
      " ['clock']\n",
      " ['detect']]\n",
      "Closest 10 terms to Centroid # 2 are:\n",
      "[['release']\n",
      " ['expressing']\n",
      " ['volume']\n",
      " ['fig']\n",
      " ['right']\n",
      " ['mediated']\n",
      " ['cells']\n",
      " ['width']\n",
      " ['obtained']\n",
      " ['land']]\n",
      "Closest 10 terms to Centroid # 3 are:\n",
      "[['tail']\n",
      " ['expressing']\n",
      " ['volume']\n",
      " ['right']\n",
      " ['cross']\n",
      " ['states']\n",
      " ['described']\n",
      " ['receptor']\n",
      " ['second']\n",
      " ['trend']]\n",
      "Closest 10 terms to Centroid # 4 are:\n",
      "[['expressing']\n",
      " ['volume']\n",
      " ['mediated']\n",
      " ['states']\n",
      " ['described']\n",
      " ['receptor']\n",
      " ['right']\n",
      " ['fig']\n",
      " ['compass']\n",
      " ['address']]\n"
     ]
    }
   ],
   "source": [
    "indicesTerm = findClosestPointsToCentroid(kForTerms, modelTwo)\n",
    "find10Closest(\"science2k-vocab.txt\", indicesTerm, 'terms')"
   ]
  },
  {
   "cell_type": "code",
   "execution_count": null,
   "metadata": {
    "collapsed": true
   },
   "outputs": [],
   "source": []
  }
 ],
 "metadata": {
  "kernelspec": {
   "display_name": "Python 3",
   "language": "python",
   "name": "python3"
  },
  "language_info": {
   "codemirror_mode": {
    "name": "ipython",
    "version": 3
   },
   "file_extension": ".py",
   "mimetype": "text/x-python",
   "name": "python",
   "nbconvert_exporter": "python",
   "pygments_lexer": "ipython3",
   "version": "3.6.1"
  }
 },
 "nbformat": 4,
 "nbformat_minor": 2
}
