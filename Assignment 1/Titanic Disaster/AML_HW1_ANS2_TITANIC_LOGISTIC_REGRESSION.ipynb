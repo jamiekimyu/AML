{
 "cells": [
  {
   "cell_type": "code",
   "execution_count": 1,
   "metadata": {
    "collapsed": true
   },
   "outputs": [],
   "source": [
    "import numpy as np\n",
    "import pandas as pd\n",
    "import matplotlib.pyplot as plt\n",
    "%matplotlib inline"
   ]
  },
  {
   "cell_type": "code",
   "execution_count": 66,
   "metadata": {},
   "outputs": [
    {
     "name": "stdout",
     "output_type": "stream",
     "text": [
      "   PassengerId  Survived  Pclass  \\\n",
      "0            1         0       3   \n",
      "1            2         1       1   \n",
      "2            3         1       3   \n",
      "3            4         1       1   \n",
      "4            5         0       3   \n",
      "\n",
      "                                                Name     Sex   Age  SibSp  \\\n",
      "0                            Braund, Mr. Owen Harris    male  22.0      1   \n",
      "1  Cumings, Mrs. John Bradley (Florence Briggs Th...  female  38.0      1   \n",
      "2                             Heikkinen, Miss. Laina  female  26.0      0   \n",
      "3       Futrelle, Mrs. Jacques Heath (Lily May Peel)  female  35.0      1   \n",
      "4                           Allen, Mr. William Henry    male  35.0      0   \n",
      "\n",
      "   Parch     Fare  Cabin Embarked  \n",
      "0      0   7.2500      0        S  \n",
      "1      0  71.2833      3        C  \n",
      "2      0   7.9250      0        S  \n",
      "3      0  53.1000      3        S  \n",
      "4      0   8.0500      0        S  \n",
      "       PassengerId    Survived      Pclass         Age       SibSp  \\\n",
      "count   891.000000  891.000000  891.000000  891.000000  891.000000   \n",
      "mean    446.000000    0.383838    2.308642   29.382907    0.523008   \n",
      "std     257.353842    0.486592    0.836071   13.260272    1.102743   \n",
      "min       1.000000    0.000000    1.000000    0.420000    0.000000   \n",
      "25%     223.500000    0.000000    2.000000   22.000000    0.000000   \n",
      "50%     446.000000    0.000000    3.000000   27.000000    0.000000   \n",
      "75%     668.500000    1.000000    3.000000   36.000000    1.000000   \n",
      "max     891.000000    1.000000    3.000000   80.000000    8.000000   \n",
      "\n",
      "            Parch        Fare       Cabin  \n",
      "count  891.000000  891.000000  891.000000  \n",
      "mean     0.381594   32.204208    0.776655  \n",
      "std      0.806057   49.693429    1.590899  \n",
      "min      0.000000    0.000000    0.000000  \n",
      "25%      0.000000    7.910400    0.000000  \n",
      "50%      0.000000   14.454200    0.000000  \n",
      "75%      0.000000   31.000000    0.000000  \n",
      "max      6.000000  512.329200    8.000000  \n"
     ]
    }
   ],
   "source": [
    "data = pd.read_csv(\"training.csv\")\n",
    "print(data.head(5))  #first five rows of data\n",
    "print(data.describe()) #Gives an overview of various statistics over data"
   ]
  },
  {
   "cell_type": "code",
   "execution_count": 67,
   "metadata": {},
   "outputs": [
    {
     "name": "stdout",
     "output_type": "stream",
     "text": [
      "Index(['PassengerId', 'Survived', 'Pclass', 'Name', 'Sex', 'Age', 'SibSp',\n",
      "       'Parch', 'Fare', 'Cabin', 'Embarked'],\n",
      "      dtype='object')\n",
      "int64\n",
      "int64\n",
      "int64\n",
      "object\n",
      "object\n",
      "float64\n",
      "int64\n",
      "int64\n",
      "float64\n",
      "int64\n",
      "object\n"
     ]
    }
   ],
   "source": [
    "print(data.columns)\n",
    "for column in data.columns:\n",
    "    print(data[column].dtype) #Prints type of columns"
   ]
  },
  {
   "cell_type": "code",
   "execution_count": 68,
   "metadata": {},
   "outputs": [
    {
     "name": "stdout",
     "output_type": "stream",
     "text": [
      "     PassengerId  Survived  Pclass   Name    Sex    Age  SibSp  Parch   Fare  \\\n",
      "0          False     False   False  False  False  False  False  False  False   \n",
      "1          False     False   False  False  False  False  False  False  False   \n",
      "2          False     False   False  False  False  False  False  False  False   \n",
      "3          False     False   False  False  False  False  False  False  False   \n",
      "4          False     False   False  False  False  False  False  False  False   \n",
      "5          False     False   False  False  False  False  False  False  False   \n",
      "6          False     False   False  False  False  False  False  False  False   \n",
      "7          False     False   False  False  False  False  False  False  False   \n",
      "8          False     False   False  False  False  False  False  False  False   \n",
      "9          False     False   False  False  False  False  False  False  False   \n",
      "10         False     False   False  False  False  False  False  False  False   \n",
      "11         False     False   False  False  False  False  False  False  False   \n",
      "12         False     False   False  False  False  False  False  False  False   \n",
      "13         False     False   False  False  False  False  False  False  False   \n",
      "14         False     False   False  False  False  False  False  False  False   \n",
      "15         False     False   False  False  False  False  False  False  False   \n",
      "16         False     False   False  False  False  False  False  False  False   \n",
      "17         False     False   False  False  False  False  False  False  False   \n",
      "18         False     False   False  False  False  False  False  False  False   \n",
      "19         False     False   False  False  False  False  False  False  False   \n",
      "20         False     False   False  False  False  False  False  False  False   \n",
      "21         False     False   False  False  False  False  False  False  False   \n",
      "22         False     False   False  False  False  False  False  False  False   \n",
      "23         False     False   False  False  False  False  False  False  False   \n",
      "24         False     False   False  False  False  False  False  False  False   \n",
      "25         False     False   False  False  False  False  False  False  False   \n",
      "26         False     False   False  False  False  False  False  False  False   \n",
      "27         False     False   False  False  False  False  False  False  False   \n",
      "28         False     False   False  False  False  False  False  False  False   \n",
      "29         False     False   False  False  False  False  False  False  False   \n",
      "..           ...       ...     ...    ...    ...    ...    ...    ...    ...   \n",
      "861        False     False   False  False  False  False  False  False  False   \n",
      "862        False     False   False  False  False  False  False  False  False   \n",
      "863        False     False   False  False  False  False  False  False  False   \n",
      "864        False     False   False  False  False  False  False  False  False   \n",
      "865        False     False   False  False  False  False  False  False  False   \n",
      "866        False     False   False  False  False  False  False  False  False   \n",
      "867        False     False   False  False  False  False  False  False  False   \n",
      "868        False     False   False  False  False  False  False  False  False   \n",
      "869        False     False   False  False  False  False  False  False  False   \n",
      "870        False     False   False  False  False  False  False  False  False   \n",
      "871        False     False   False  False  False  False  False  False  False   \n",
      "872        False     False   False  False  False  False  False  False  False   \n",
      "873        False     False   False  False  False  False  False  False  False   \n",
      "874        False     False   False  False  False  False  False  False  False   \n",
      "875        False     False   False  False  False  False  False  False  False   \n",
      "876        False     False   False  False  False  False  False  False  False   \n",
      "877        False     False   False  False  False  False  False  False  False   \n",
      "878        False     False   False  False  False  False  False  False  False   \n",
      "879        False     False   False  False  False  False  False  False  False   \n",
      "880        False     False   False  False  False  False  False  False  False   \n",
      "881        False     False   False  False  False  False  False  False  False   \n",
      "882        False     False   False  False  False  False  False  False  False   \n",
      "883        False     False   False  False  False  False  False  False  False   \n",
      "884        False     False   False  False  False  False  False  False  False   \n",
      "885        False     False   False  False  False  False  False  False  False   \n",
      "886        False     False   False  False  False  False  False  False  False   \n",
      "887        False     False   False  False  False  False  False  False  False   \n",
      "888        False     False   False  False  False  False  False  False  False   \n",
      "889        False     False   False  False  False  False  False  False  False   \n",
      "890        False     False   False  False  False  False  False  False  False   \n",
      "\n",
      "     Cabin  Embarked  \n",
      "0    False     False  \n",
      "1    False     False  \n",
      "2    False     False  \n",
      "3    False     False  \n",
      "4    False     False  \n",
      "5    False     False  \n",
      "6    False     False  \n",
      "7    False     False  \n",
      "8    False     False  \n",
      "9    False     False  \n",
      "10   False     False  \n",
      "11   False     False  \n",
      "12   False     False  \n",
      "13   False     False  \n",
      "14   False     False  \n",
      "15   False     False  \n",
      "16   False     False  \n",
      "17   False     False  \n",
      "18   False     False  \n",
      "19   False     False  \n",
      "20   False     False  \n",
      "21   False     False  \n",
      "22   False     False  \n",
      "23   False     False  \n",
      "24   False     False  \n",
      "25   False     False  \n",
      "26   False     False  \n",
      "27   False     False  \n",
      "28   False     False  \n",
      "29   False     False  \n",
      "..     ...       ...  \n",
      "861  False     False  \n",
      "862  False     False  \n",
      "863  False     False  \n",
      "864  False     False  \n",
      "865  False     False  \n",
      "866  False     False  \n",
      "867  False     False  \n",
      "868  False     False  \n",
      "869  False     False  \n",
      "870  False     False  \n",
      "871  False     False  \n",
      "872  False     False  \n",
      "873  False     False  \n",
      "874  False     False  \n",
      "875  False     False  \n",
      "876  False     False  \n",
      "877  False     False  \n",
      "878  False     False  \n",
      "879  False     False  \n",
      "880  False     False  \n",
      "881  False     False  \n",
      "882  False     False  \n",
      "883  False     False  \n",
      "884  False     False  \n",
      "885  False     False  \n",
      "886  False     False  \n",
      "887  False     False  \n",
      "888  False     False  \n",
      "889  False     False  \n",
      "890  False     False  \n",
      "\n",
      "[891 rows x 11 columns]\n"
     ]
    }
   ],
   "source": [
    "print(pd.isnull(data)) #Returns True for places with no value"
   ]
  },
  {
   "cell_type": "code",
   "execution_count": 69,
   "metadata": {
    "collapsed": true
   },
   "outputs": [],
   "source": [
    "for column in data.columns:\n",
    "    if np.any(pd.isnull(data[column])) == True:\n",
    "            print(column)"
   ]
  },
  {
   "cell_type": "code",
   "execution_count": 70,
   "metadata": {
    "collapsed": true
   },
   "outputs": [],
   "source": [
    "# convert female/male to numeric values (male=0, female=1)\n",
    "data.loc[data[\"Sex\"] == \"male\", \"Sex\"] = 0\n",
    "data.loc[data[\"Sex\"] == \"female\", \"Sex\"] = 1"
   ]
  },
  {
   "cell_type": "code",
   "execution_count": 71,
   "metadata": {
    "collapsed": true
   },
   "outputs": [],
   "source": [
    "#Convert Embarked town status to int\n",
    "\n",
    "data.loc[data[\"Embarked\"] == \"S\", \"Embarked\"] = 0\n",
    "data.loc[data[\"Embarked\"] == \"C\", \"Embarked\"] = 1\n",
    "data.loc[data[\"Embarked\"] == \"Q\", \"Embarked\"] = 2"
   ]
  },
  {
   "cell_type": "code",
   "execution_count": null,
   "metadata": {
    "collapsed": true
   },
   "outputs": [],
   "source": [
    "\n"
   ]
  },
  {
   "cell_type": "code",
   "execution_count": null,
   "metadata": {
    "collapsed": true
   },
   "outputs": [],
   "source": []
  },
  {
   "cell_type": "code",
   "execution_count": 87,
   "metadata": {
    "collapsed": true
   },
   "outputs": [],
   "source": [
    "from sklearn.linear_model import LogisticRegression\n",
    "from sklearn.cross_validation import cross_val_score\n",
    "#The list of predictors we feel are useful in determining the accuracy of training data.\n",
    "predictors = [\"Pclass\", \"Sex\", \"Age\", \"SibSp\", \"Parch\", \"Cabin\", \"Embarked\"]"
   ]
  },
  {
   "cell_type": "code",
   "execution_count": 94,
   "metadata": {
    "collapsed": true
   },
   "outputs": [],
   "source": [
    "#The inbuit command for Logistic Regression Model\n",
    "logreg = LogisticRegression()"
   ]
  },
  {
   "cell_type": "code",
   "execution_count": 95,
   "metadata": {},
   "outputs": [
    {
     "name": "stdout",
     "output_type": "stream",
     "text": [
      "0.814819793493\n"
     ]
    }
   ],
   "source": [
    "#Cross Validation score using logistic regression over a relationship between columns specified inside predictors array\n",
    "print(cross_val_score(logreg, data[predictors], data['Survived'], cv=15, scoring='accuracy').mean())"
   ]
  },
  {
   "cell_type": "code",
   "execution_count": 96,
   "metadata": {
    "collapsed": true
   },
   "outputs": [],
   "source": [
    "# reading the test data\n",
    "test = pd.read_csv(\"test.csv\")"
   ]
  },
  {
   "cell_type": "code",
   "execution_count": 101,
   "metadata": {},
   "outputs": [
    {
     "name": "stdout",
     "output_type": "stream",
     "text": [
      "Fare\n"
     ]
    }
   ],
   "source": [
    "#Checking for columns with blank data in test.csv\n",
    "for column in test.columns:\n",
    "    if np.any(pd.isnull(test[column])) == True:\n",
    "            print(column) "
   ]
  },
  {
   "cell_type": "code",
   "execution_count": 97,
   "metadata": {
    "collapsed": true
   },
   "outputs": [],
   "source": [
    "#Cleaning data to int and booleans for better co-relation.\n",
    "test.loc[test[\"Sex\"] == \"male\", \"Sex\"] = 0\n",
    "test.loc[test[\"Sex\"] == \"female\", \"Sex\"] = 1\n",
    "\n",
    "test.loc[test[\"Embarked\"] == \"S\", \"Embarked\"] = 0\n",
    "test.loc[test[\"Embarked\"] == \"C\", \"Embarked\"] = 1\n",
    "test.loc[test[\"Embarked\"] == \"Q\", \"Embarked\"] = 2"
   ]
  },
  {
   "cell_type": "code",
   "execution_count": 98,
   "metadata": {},
   "outputs": [
    {
     "name": "stdout",
     "output_type": "stream",
     "text": [
      "     PassengerId  Survived\n",
      "0            892         0\n",
      "1            893         0\n",
      "2            894         0\n",
      "3            895         0\n",
      "4            896         1\n",
      "5            897         0\n",
      "6            898         1\n",
      "7            899         0\n",
      "8            900         1\n",
      "9            901         0\n",
      "10           902         0\n",
      "11           903         0\n",
      "12           904         1\n",
      "13           905         0\n",
      "14           906         1\n",
      "15           907         1\n",
      "16           908         0\n",
      "17           909         0\n",
      "18           910         1\n",
      "19           911         0\n",
      "20           912         0\n",
      "21           913         0\n",
      "22           914         1\n",
      "23           915         1\n",
      "24           916         1\n",
      "25           917         0\n",
      "26           918         1\n",
      "27           919         0\n",
      "28           920         0\n",
      "29           921         0\n",
      "..           ...       ...\n",
      "388         1280         0\n",
      "389         1281         0\n",
      "390         1282         1\n",
      "391         1283         1\n",
      "392         1284         0\n",
      "393         1285         0\n",
      "394         1286         0\n",
      "395         1287         1\n",
      "396         1288         0\n",
      "397         1289         1\n",
      "398         1290         0\n",
      "399         1291         0\n",
      "400         1292         1\n",
      "401         1293         0\n",
      "402         1294         1\n",
      "403         1295         1\n",
      "404         1296         0\n",
      "405         1297         1\n",
      "406         1298         0\n",
      "407         1299         0\n",
      "408         1300         1\n",
      "409         1301         1\n",
      "410         1302         1\n",
      "411         1303         1\n",
      "412         1304         1\n",
      "413         1305         0\n",
      "414         1306         1\n",
      "415         1307         0\n",
      "416         1308         0\n",
      "417         1309         0\n",
      "\n",
      "[418 rows x 2 columns]\n"
     ]
    }
   ],
   "source": [
    "#Applying Logistic Regression to test data.\n",
    "logreg.fit(data[predictors], data[\"Survived\"])\n",
    "prediction = logreg.predict(test[predictors])\n",
    "\n",
    "#Preparing the dataframe of final output\n",
    "submission = pd.DataFrame({ \n",
    "    \"PassengerId\" : test[\"PassengerId\"],\n",
    "    \"Survived\" : prediction\n",
    "    })\n",
    "\n",
    "print(submission)"
   ]
  },
  {
   "cell_type": "code",
   "execution_count": 99,
   "metadata": {
    "collapsed": true
   },
   "outputs": [],
   "source": [
    "submission.to_csv(\"submission.csv\", index=False) #Storing the submission to a csv file for submission to Kaggle."
   ]
  }
 ],
 "metadata": {
  "kernelspec": {
   "display_name": "Python 3",
   "language": "python",
   "name": "python3"
  },
  "language_info": {
   "codemirror_mode": {
    "name": "ipython",
    "version": 3
   },
   "file_extension": ".py",
   "mimetype": "text/x-python",
   "name": "python",
   "nbconvert_exporter": "python",
   "pygments_lexer": "ipython3",
   "version": "3.6.1"
  }
 },
 "nbformat": 4,
 "nbformat_minor": 2
}
